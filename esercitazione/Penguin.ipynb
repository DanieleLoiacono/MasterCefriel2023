{
  "metadata": {
    "kernelspec": {
      "language": "python",
      "display_name": "Python 3",
      "name": "python3"
    },
    "language_info": {
      "pygments_lexer": "ipython3",
      "nbconvert_exporter": "python",
      "version": "3.6.4",
      "file_extension": ".py",
      "codemirror_mode": {
        "name": "ipython",
        "version": 3
      },
      "name": "python",
      "mimetype": "text/x-python"
    },
    "colab": {
      "provenance": []
    }
  },
  "nbformat_minor": 0,
  "nbformat": 4,
  "cells": [
    {
      "cell_type": "markdown",
      "source": [
        "![](https://imgur.com/orZWHly.png)\n"
      ],
      "metadata": {
        "id": "kWccc6BjwUTI"
      }
    },
    {
      "cell_type": "code",
      "source": [
        "!wget https://www.dropbox.com/s/dt4ub0kukh3glrz/penguins_size.csv?dl=0 -O penguins_size.csv\n",
        "\n",
        "import pandas as pd\n",
        "import seaborn as sns\n",
        "import matplotlib.pyplot as plt\n",
        "\n"
      ],
      "metadata": {
        "_uuid": "8f2839f25d086af736a60e9eeb907d3b93b6e0e5",
        "_cell_guid": "b1076dfc-b9ad-4769-8c92-a6c4dae69d19",
        "_kg_hide-input": true,
        "_kg_hide-output": true,
        "trusted": true,
        "id": "G6lGysdZwUTK"
      },
      "execution_count": null,
      "outputs": []
    },
    {
      "cell_type": "markdown",
      "source": [
        "Il dataset contiene 7 colonne \n",
        "\n",
        "* **species**: penguin species (Chinstrap, Adélie, or Gentoo)\n",
        "* **culmen_length_mm**: culmen length (mm)\n",
        "* **culmen_depth_mm**: culmen depth (mm)\n",
        "* **flipper_length_mm**: flipper length (mm)\n",
        "* **body_mass_g**: body mass (g)\n",
        "* **island**: island name (Dream, Torgersen, or Biscoe) in the Palmer Archipelago (Antarctica)\n",
        "* **sex**: penguin sex\n",
        "\n",
        "## Culmen and Flippers?\n",
        "\n",
        "![](https://pbs.twimg.com/media/EaAXQn8U4AAoKUj.jpg:large)\n",
        "![](https://previews.123rf.com/images/aomeditor/aomeditor1903/aomeditor190300021/122254680-illustrator-of-body-parts-of-penguin.jpg)\n"
      ],
      "metadata": {
        "id": "iqXfCt3BwUTN"
      }
    },
    {
      "cell_type": "markdown",
      "source": [
        "# Domanda 1"
      ],
      "metadata": {
        "id": "rReOvX1UwUTM"
      }
    },
    {
      "cell_type": "code",
      "source": [
        "#Scrivere il codice per caricare il dataset penguins_size.csv in un dataframe \n",
        "# pandas. Mostrare poi le prime 10 righe del dataframe caricato\n",
        "\n"
      ],
      "metadata": {
        "_uuid": "d629ff2d2480ee46fbb7e2d37f6b5fab8052498a",
        "_cell_guid": "79c7e3d0-c299-4dcb-8224-4455121ee9b0",
        "trusted": true,
        "id": "5_kBUpDHwUTM"
      },
      "execution_count": null,
      "outputs": []
    },
    {
      "cell_type": "markdown",
      "source": [
        "#Domanda 2"
      ],
      "metadata": {
        "id": "uXb6qCbdDOG6"
      }
    },
    {
      "cell_type": "code",
      "source": [
        "#Controlla se ci sono valori mancanti nel dataset usando Pandas\n"
      ],
      "metadata": {
        "id": "IEiu9vE0DSL0"
      },
      "execution_count": null,
      "outputs": []
    },
    {
      "cell_type": "code",
      "source": [
        "#Utilizza uno dei possibili metodi per la gestione dei valori mancanti\n"
      ],
      "metadata": {
        "id": "k56qE1nPDa1-"
      },
      "execution_count": null,
      "outputs": []
    },
    {
      "cell_type": "markdown",
      "source": [
        "# Domanda 3\n",
        "\n"
      ],
      "metadata": {
        "id": "nkJGIJsfwUTN"
      }
    },
    {
      "cell_type": "code",
      "source": [
        "#Usare Pandas per stampare una tabella con i principali descrittori statistici \n",
        "#del dataset. Stampare anche le statistiche delle variabili categoriche.\n"
      ],
      "metadata": {
        "trusted": true,
        "id": "y1fj_qVUwUTO"
      },
      "execution_count": null,
      "outputs": []
    },
    {
      "cell_type": "code",
      "source": [
        "#Quanti valori ha la variabile sex? Elimina i valori diversi da \"MALE\" e \"FEMALE\"\n"
      ],
      "metadata": {
        "id": "_D7S4WdGEz3j"
      },
      "execution_count": null,
      "outputs": []
    },
    {
      "cell_type": "markdown",
      "source": [
        "#Domanda 4\n"
      ],
      "metadata": {
        "id": "MOYGCoM8wUTQ"
      }
    },
    {
      "cell_type": "code",
      "source": [
        "#Visualizzare come sono distribuiti i valori delle variabili \n",
        "#'culmen_length_mm', 'culmen_depth_mm', 'flipper_length_mm' nelle tre \n",
        "# diverse specie di pinguino, confrontando al distribuzione fra gli individui \n",
        "#maschili e quelli femminili. Utilizzare il tipo di visualizzazione ritenuto \n",
        "#più opportuno allo scopo. \n",
        "\n"
      ],
      "metadata": {
        "trusted": true,
        "id": "A68hPynrwUTQ"
      },
      "execution_count": null,
      "outputs": []
    },
    {
      "cell_type": "markdown",
      "source": [
        "# Domanda 5\n"
      ],
      "metadata": {
        "id": "MGJIZjgKwUTR"
      }
    },
    {
      "cell_type": "code",
      "source": [
        "#Visualizzare la relazione fra tutte le variabili numeriche del dataset nelle \n",
        "# tre diverse specie di pinguino. Utilizzare il tipo di visualizzazione ritenuto \n",
        "#più opportuno allo scopo. \n"
      ],
      "metadata": {
        "trusted": true,
        "id": "kKTemzgOwUTR"
      },
      "execution_count": null,
      "outputs": []
    }
  ]
}